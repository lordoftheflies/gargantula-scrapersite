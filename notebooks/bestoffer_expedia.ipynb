{
 "cells": [
  {
   "cell_type": "markdown",
   "metadata": {},
   "source": [
    "# Expedia best-offer\n",
    "Best-offers from Expedia webportal."
   ]
  },
  {
   "cell_type": "code",
   "execution_count": null,
   "metadata": {},
   "outputs": [],
   "source": [
    "print(\"pre\")"
   ]
  },
  {
   "cell_type": "code",
   "execution_count": 2,
   "metadata": {
    "collapsed": true,
    "deletable": true,
    "editable": true
   },
   "outputs": [],
   "source": [
    "class SampleClass(object):\n",
    "    \n",
    "    def sample_method(self):\n",
    "        print('execute sample_method')\n",
    "        pass\n",
    "\n",
    "    def sample_method_with_output(self):\n",
    "        print('execute sample_method_with_output')\n",
    "        return 'output'\n",
    "\n",
    "    def sample_method_with_inoutput(self, param, *args, **kwargs):\n",
    "        print('execute sample_method_with_inoutput(%s, %s, %s)' % (param, args, kwargs))\n",
    "        return 'output'\n",
    "    \n",
    "    def __str__(self):\n",
    "        return 'sample_class'\n",
    "    \n",
    "sample_integer = 1\n",
    "sample_float = 1.0\n",
    "sample_strng = 'hello'\n",
    "sample_list = [1, 2, 3]\n",
    "sample_tuple = ('alma', 'korte',)\n",
    "sample_object = object()\n",
    "sample_dictionary = dict(dinnye=10)\n",
    "sample_instance = SampleClass()"
   ]
  },
  {
   "cell_type": "code",
   "execution_count": null,
   "metadata": {},
   "outputs": [],
   "source": [
    "print(\"post\")"
   ]
  }
 ],
 "metadata": {
  "gargantula": false
 },
 "nbformat": 4,
 "nbformat_minor": 2
}
