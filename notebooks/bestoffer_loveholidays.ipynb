{
 "cells": [
  {
   "cell_type": "markdown",
   "metadata": {},
   "source": [
    "# Love Holidays best-offer\n",
    "Best-offers from Love Holidays webportal."
   ]
  },
  {
   "cell_type": "code",
   "execution_count": null,
   "metadata": {},
   "outputs": [],
   "source": [
    "print(\"pre\")"
   ]
  },
  {
   "cell_type": "code",
   "execution_count": null,
   "metadata": {},
   "outputs": [],
   "source": [
    "print(\"post\")"
   ]
  }
 ],
 "metadata": {
  "gargantula": false
 },
 "nbformat": 4,
 "nbformat_minor": 2
}
