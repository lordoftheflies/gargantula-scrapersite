{
 "cells": [
  {
   "cell_type": "markdown",
   "metadata": {},
   "source": [
    "# Jet2holidays best-offer\n",
    "Best-offers from Jet2holidays webportal."
   ]
  },
  {
   "cell_type": "code",
   "execution_count": null,
   "metadata": {},
   "outputs": [],
   "source": [
    "print(\"pre\")"
   ]
  },
  {
   "cell_type": "code",
   "execution_count": null,
   "metadata": {},
   "outputs": [],
   "source": [
    "print(\"post\")"
   ]
  }
 ],
 "metadata": {
  "gargantula": false
 },
 "nbformat": 4,
 "nbformat_minor": 2
}
