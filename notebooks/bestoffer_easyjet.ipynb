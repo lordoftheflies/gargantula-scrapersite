{
 "cells": [
  {
   "cell_type": "markdown",
   "metadata": {},
   "source": [
    "# Sample\n",
    "Sample process for scraping data to provide samples of usage.\r\n",
    "\r\n",
    "Further information: https://github.com/lordoftheflies/gargantula/wiki/Sample-project"
   ]
  },
  {
   "cell_type": "code",
   "execution_count": null,
   "metadata": {},
   "outputs": [],
   "source": [
    "print(\"pre\")"
   ]
  },
  {
   "cell_type": "code",
   "execution_count": null,
   "metadata": {},
   "outputs": [],
   "source": [
    "print(\"post\")"
   ]
  }
 ],
 "metadata": {
  "gargantula": false
 },
 "nbformat": 4,
 "nbformat_minor": 2
}
